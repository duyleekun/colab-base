{
 "nbformat": 4,
 "nbformat_minor": 0,
 "metadata": {
  "colab": {
   "name": "QNET Topic.ipynb",
   "provenance": [],
   "collapsed_sections": []
  },
  "kernelspec": {
   "name": "python3",
   "language": "python",
   "display_name": "Python 3"
  },
  "accelerator": "GPU"
 },
 "cells": [
  {
   "cell_type": "markdown",
   "metadata": {
    "id": "AXHLDxJdRzBi"
   },
   "source": [
    "# BERTopic - Tutorial\n",
    "We start with installing bertopic from pypi before preparing the data. \n",
    "\n",
    "**NOTE**: Make sure to select a GPU runtime. Otherwise, the model can take quite some time to create the document embeddings!"
   ]
  },
  {
   "cell_type": "code",
   "execution_count": 80,
   "outputs": [
    {
     "name": "stdout",
     "output_type": "stream",
     "text": [
      "Requirement already satisfied: bertopic in /root/.local/share/virtualenvs/app-4PlAip0Q/lib/python3.8/site-packages (0.1.2)\r\n",
      "Requirement already satisfied: hdbscan in /root/.local/share/virtualenvs/app-4PlAip0Q/lib/python3.8/site-packages (from bertopic) (0.8.26)\r\n",
      "Requirement already satisfied: joblib in /root/.local/share/virtualenvs/app-4PlAip0Q/lib/python3.8/site-packages (from bertopic) (0.13.2)\r\n",
      "Requirement already satisfied: tqdm in /root/.local/share/virtualenvs/app-4PlAip0Q/lib/python3.8/site-packages (from bertopic) (4.50.1)\r\n",
      "Requirement already satisfied: umap-learn in /root/.local/share/virtualenvs/app-4PlAip0Q/lib/python3.8/site-packages (from bertopic) (0.4.6)\r\n",
      "Requirement already satisfied: pandas in /root/.local/share/virtualenvs/app-4PlAip0Q/lib/python3.8/site-packages (from bertopic) (1.1.3)\r\n",
      "Requirement already satisfied: sentence-transformers in /root/.local/share/virtualenvs/app-4PlAip0Q/lib/python3.8/site-packages (from bertopic) (0.3.7.2)\r\n",
      "Requirement already satisfied: numpy in /root/.local/share/virtualenvs/app-4PlAip0Q/lib/python3.8/site-packages (from bertopic) (1.19.2)\r\n",
      "Requirement already satisfied: torch in /root/.local/share/virtualenvs/app-4PlAip0Q/lib/python3.8/site-packages (from bertopic) (1.6.0)\r\n",
      "Requirement already satisfied: scikit-learn in /root/.local/share/virtualenvs/app-4PlAip0Q/lib/python3.8/site-packages (from bertopic) (0.20.3)\r\n",
      "Requirement already satisfied: six in /root/.local/share/virtualenvs/app-4PlAip0Q/lib/python3.8/site-packages (from hdbscan->bertopic) (1.15.0)\r\n",
      "Requirement already satisfied: scipy>=0.9 in /root/.local/share/virtualenvs/app-4PlAip0Q/lib/python3.8/site-packages (from hdbscan->bertopic) (1.5.2)\r\n",
      "Requirement already satisfied: cython>=0.27 in /root/.local/share/virtualenvs/app-4PlAip0Q/lib/python3.8/site-packages (from hdbscan->bertopic) (0.29.21)\r\n",
      "Requirement already satisfied: numba!=0.47,>=0.46 in /root/.local/share/virtualenvs/app-4PlAip0Q/lib/python3.8/site-packages (from umap-learn->bertopic) (0.51.2)\r\n",
      "Requirement already satisfied: pytz>=2017.2 in /root/.local/share/virtualenvs/app-4PlAip0Q/lib/python3.8/site-packages (from pandas->bertopic) (2020.1)\r\n",
      "Requirement already satisfied: python-dateutil>=2.7.3 in /root/.local/share/virtualenvs/app-4PlAip0Q/lib/python3.8/site-packages (from pandas->bertopic) (2.8.1)\r\n",
      "Requirement already satisfied: transformers<3.4.0,>=3.1.0 in /root/.local/share/virtualenvs/app-4PlAip0Q/lib/python3.8/site-packages (from sentence-transformers->bertopic) (3.3.1)\r\n",
      "Requirement already satisfied: nltk in /root/.local/share/virtualenvs/app-4PlAip0Q/lib/python3.8/site-packages (from sentence-transformers->bertopic) (3.4.5)\r\n",
      "Requirement already satisfied: future in /root/.local/share/virtualenvs/app-4PlAip0Q/lib/python3.8/site-packages (from torch->bertopic) (0.18.2)\r\n",
      "Requirement already satisfied: setuptools in /root/.local/share/virtualenvs/app-4PlAip0Q/lib/python3.8/site-packages (from numba!=0.47,>=0.46->umap-learn->bertopic) (50.3.0)\r\n",
      "Requirement already satisfied: llvmlite<0.35,>=0.34.0.dev0 in /root/.local/share/virtualenvs/app-4PlAip0Q/lib/python3.8/site-packages (from numba!=0.47,>=0.46->umap-learn->bertopic) (0.34.0)\r\n",
      "Requirement already satisfied: filelock in /root/.local/share/virtualenvs/app-4PlAip0Q/lib/python3.8/site-packages (from transformers<3.4.0,>=3.1.0->sentence-transformers->bertopic) (3.0.12)\r\n",
      "Requirement already satisfied: packaging in /root/.local/share/virtualenvs/app-4PlAip0Q/lib/python3.8/site-packages (from transformers<3.4.0,>=3.1.0->sentence-transformers->bertopic) (20.4)\r\n",
      "Requirement already satisfied: sacremoses in /root/.local/share/virtualenvs/app-4PlAip0Q/lib/python3.8/site-packages (from transformers<3.4.0,>=3.1.0->sentence-transformers->bertopic) (0.0.43)\r\n",
      "Requirement already satisfied: requests in /root/.local/share/virtualenvs/app-4PlAip0Q/lib/python3.8/site-packages (from transformers<3.4.0,>=3.1.0->sentence-transformers->bertopic) (2.24.0)\r\n",
      "Requirement already satisfied: regex!=2019.12.17 in /root/.local/share/virtualenvs/app-4PlAip0Q/lib/python3.8/site-packages (from transformers<3.4.0,>=3.1.0->sentence-transformers->bertopic) (2020.9.27)\r\n",
      "Requirement already satisfied: sentencepiece!=0.1.92 in /root/.local/share/virtualenvs/app-4PlAip0Q/lib/python3.8/site-packages (from transformers<3.4.0,>=3.1.0->sentence-transformers->bertopic) (0.1.91)\r\n",
      "Requirement already satisfied: tokenizers==0.8.1.rc2 in /root/.local/share/virtualenvs/app-4PlAip0Q/lib/python3.8/site-packages (from transformers<3.4.0,>=3.1.0->sentence-transformers->bertopic) (0.8.1rc2)\r\n",
      "Requirement already satisfied: pyparsing>=2.0.2 in /root/.local/share/virtualenvs/app-4PlAip0Q/lib/python3.8/site-packages (from packaging->transformers<3.4.0,>=3.1.0->sentence-transformers->bertopic) (2.4.7)\r\n",
      "Requirement already satisfied: click in /root/.local/share/virtualenvs/app-4PlAip0Q/lib/python3.8/site-packages (from sacremoses->transformers<3.4.0,>=3.1.0->sentence-transformers->bertopic) (7.1.2)\r\n",
      "Requirement already satisfied: certifi>=2017.4.17 in /root/.local/share/virtualenvs/app-4PlAip0Q/lib/python3.8/site-packages (from requests->transformers<3.4.0,>=3.1.0->sentence-transformers->bertopic) (2020.6.20)\r\n",
      "Requirement already satisfied: urllib3!=1.25.0,!=1.25.1,<1.26,>=1.21.1 in /root/.local/share/virtualenvs/app-4PlAip0Q/lib/python3.8/site-packages (from requests->transformers<3.4.0,>=3.1.0->sentence-transformers->bertopic) (1.25.10)\r\n",
      "Requirement already satisfied: chardet<4,>=3.0.2 in /root/.local/share/virtualenvs/app-4PlAip0Q/lib/python3.8/site-packages (from requests->transformers<3.4.0,>=3.1.0->sentence-transformers->bertopic) (3.0.4)\r\n",
      "Requirement already satisfied: idna<3,>=2.5 in /root/.local/share/virtualenvs/app-4PlAip0Q/lib/python3.8/site-packages (from requests->transformers<3.4.0,>=3.1.0->sentence-transformers->bertopic) (2.10)\r\n",
      "Requirement already satisfied: vncorenlp in /root/.local/share/virtualenvs/app-4PlAip0Q/lib/python3.8/site-packages (1.0.3)\r\n",
      "Requirement already satisfied: requests in /root/.local/share/virtualenvs/app-4PlAip0Q/lib/python3.8/site-packages (from vncorenlp) (2.24.0)\r\n",
      "Requirement already satisfied: certifi>=2017.4.17 in /root/.local/share/virtualenvs/app-4PlAip0Q/lib/python3.8/site-packages (from requests->vncorenlp) (2020.6.20)\r\n",
      "Requirement already satisfied: chardet<4,>=3.0.2 in /root/.local/share/virtualenvs/app-4PlAip0Q/lib/python3.8/site-packages (from requests->vncorenlp) (3.0.4)\r\n",
      "Requirement already satisfied: idna<3,>=2.5 in /root/.local/share/virtualenvs/app-4PlAip0Q/lib/python3.8/site-packages (from requests->vncorenlp) (2.10)\r\n",
      "Requirement already satisfied: urllib3!=1.25.0,!=1.25.1,<1.26,>=1.21.1 in /root/.local/share/virtualenvs/app-4PlAip0Q/lib/python3.8/site-packages (from requests->vncorenlp) (1.25.10)\r\n",
      "Requirement already satisfied: underthesea in /root/.local/share/virtualenvs/app-4PlAip0Q/lib/python3.8/site-packages (1.1.17)\r\n",
      "Requirement already satisfied: nltk<3.5,>=3.4 in /root/.local/share/virtualenvs/app-4PlAip0Q/lib/python3.8/site-packages (from underthesea) (3.4.5)\r\n",
      "Requirement already satisfied: Click>=6.0 in /root/.local/share/virtualenvs/app-4PlAip0Q/lib/python3.8/site-packages (from underthesea) (7.1.2)\r\n",
      "Requirement already satisfied: languageflow==1.1.13a1 in /root/.local/share/virtualenvs/app-4PlAip0Q/lib/python3.8/site-packages (from underthesea) (1.1.13a1)\r\n",
      "Requirement already satisfied: python-crfsuite==0.9.6 in /root/.local/share/virtualenvs/app-4PlAip0Q/lib/python3.8/site-packages (from underthesea) (0.9.6)\r\n",
      "Requirement already satisfied: six in /root/.local/share/virtualenvs/app-4PlAip0Q/lib/python3.8/site-packages (from nltk<3.5,>=3.4->underthesea) (1.15.0)\r\n",
      "Requirement already satisfied: scikit-learn==0.20.3 in /root/.local/share/virtualenvs/app-4PlAip0Q/lib/python3.8/site-packages (from languageflow==1.1.13a1->underthesea) (0.20.3)\r\n",
      "Requirement already satisfied: tabulate in /root/.local/share/virtualenvs/app-4PlAip0Q/lib/python3.8/site-packages (from languageflow==1.1.13a1->underthesea) (0.8.7)\r\n",
      "Requirement already satisfied: clint in /root/.local/share/virtualenvs/app-4PlAip0Q/lib/python3.8/site-packages (from languageflow==1.1.13a1->underthesea) (0.5.1)\r\n",
      "Requirement already satisfied: joblib==0.13.2 in /root/.local/share/virtualenvs/app-4PlAip0Q/lib/python3.8/site-packages (from languageflow==1.1.13a1->underthesea) (0.13.2)\r\n",
      "Requirement already satisfied: requests in /root/.local/share/virtualenvs/app-4PlAip0Q/lib/python3.8/site-packages (from languageflow==1.1.13a1->underthesea) (2.24.0)\r\n",
      "Requirement already satisfied: tqdm in /root/.local/share/virtualenvs/app-4PlAip0Q/lib/python3.8/site-packages (from languageflow==1.1.13a1->underthesea) (4.50.1)\r\n",
      "Requirement already satisfied: scipy>=0.13.3 in /root/.local/share/virtualenvs/app-4PlAip0Q/lib/python3.8/site-packages (from scikit-learn==0.20.3->languageflow==1.1.13a1->underthesea) (1.5.2)\r\n",
      "Requirement already satisfied: numpy>=1.8.2 in /root/.local/share/virtualenvs/app-4PlAip0Q/lib/python3.8/site-packages (from scikit-learn==0.20.3->languageflow==1.1.13a1->underthesea) (1.19.2)\r\n",
      "Requirement already satisfied: args in /root/.local/share/virtualenvs/app-4PlAip0Q/lib/python3.8/site-packages (from clint->languageflow==1.1.13a1->underthesea) (0.1.0)\r\n",
      "Requirement already satisfied: urllib3!=1.25.0,!=1.25.1,<1.26,>=1.21.1 in /root/.local/share/virtualenvs/app-4PlAip0Q/lib/python3.8/site-packages (from requests->languageflow==1.1.13a1->underthesea) (1.25.10)\r\n",
      "Requirement already satisfied: chardet<4,>=3.0.2 in /root/.local/share/virtualenvs/app-4PlAip0Q/lib/python3.8/site-packages (from requests->languageflow==1.1.13a1->underthesea) (3.0.4)\r\n",
      "Requirement already satisfied: certifi>=2017.4.17 in /root/.local/share/virtualenvs/app-4PlAip0Q/lib/python3.8/site-packages (from requests->languageflow==1.1.13a1->underthesea) (2020.6.20)\r\n",
      "Requirement already satisfied: idna<3,>=2.5 in /root/.local/share/virtualenvs/app-4PlAip0Q/lib/python3.8/site-packages (from requests->languageflow==1.1.13a1->underthesea) (2.10)\r\n",
      "Requirement already satisfied: tqdm in /root/.local/share/virtualenvs/app-4PlAip0Q/lib/python3.8/site-packages (4.50.1)\r\n"
     ]
    }
   ],
   "source": [
    "!pip install bertopic\n",
    "!pip install vncorenlp\n",
    "!pip install underthesea\n",
    "!pip install tqdm"
   ],
   "metadata": {
    "collapsed": false,
    "pycharm": {
     "name": "#%%\n"
    }
   }
  },
  {
   "cell_type": "code",
   "metadata": {
    "id": "SNa-KtKDRnus",
    "outputId": "f2aeba67-7c9d-4480-e575-b9fa048f4131",
    "colab": {
     "base_uri": "https://localhost:8080/",
     "height": 1000
    }
   },
   "source": [
    "!mkdir -p models/wordsegmenter\n",
    "!wget https://raw.githubusercontent.com/vncorenlp/VnCoreNLP/master/VnCoreNLP-1.1.1.jar\n",
    "!wget https://raw.githubusercontent.com/vncorenlp/VnCoreNLP/master/models/wordsegmenter/vi-vocab\n",
    "!wget https://raw.githubusercontent.com/vncorenlp/VnCoreNLP/master/models/wordsegmenter/wordsegmenter.rdr\n",
    "!mv vi-vocab models/wordsegmenter/\n",
    "!mv wordsegmenter.rdr models/wordsegmenter/"
   ],
   "execution_count": 1,
   "outputs": [
    {
     "name": "stdout",
     "output_type": "stream",
     "text": [
      "Requirement already satisfied: bertopic in /root/.local/share/virtualenvs/app-4PlAip0Q/lib/python3.8/site-packages (0.1.2)\r\n",
      "Requirement already satisfied: umap-learn in /root/.local/share/virtualenvs/app-4PlAip0Q/lib/python3.8/site-packages (from bertopic) (0.4.6)\r\n",
      "Requirement already satisfied: sentence-transformers in /root/.local/share/virtualenvs/app-4PlAip0Q/lib/python3.8/site-packages (from bertopic) (0.3.7.2)\r\n",
      "Requirement already satisfied: joblib in /root/.local/share/virtualenvs/app-4PlAip0Q/lib/python3.8/site-packages (from bertopic) (0.17.0)\r\n",
      "Requirement already satisfied: tqdm in /root/.local/share/virtualenvs/app-4PlAip0Q/lib/python3.8/site-packages (from bertopic) (4.50.1)\r\n",
      "Requirement already satisfied: scikit-learn in /root/.local/share/virtualenvs/app-4PlAip0Q/lib/python3.8/site-packages (from bertopic) (0.23.2)\r\n",
      "Requirement already satisfied: torch in /root/.local/share/virtualenvs/app-4PlAip0Q/lib/python3.8/site-packages (from bertopic) (1.6.0)\r\n",
      "Requirement already satisfied: numpy in /root/.local/share/virtualenvs/app-4PlAip0Q/lib/python3.8/site-packages (from bertopic) (1.19.2)\r\n",
      "Requirement already satisfied: pandas in /root/.local/share/virtualenvs/app-4PlAip0Q/lib/python3.8/site-packages (from bertopic) (1.1.3)\r\n",
      "Requirement already satisfied: hdbscan in /root/.local/share/virtualenvs/app-4PlAip0Q/lib/python3.8/site-packages (from bertopic) (0.8.26)\r\n",
      "Requirement already satisfied: scipy>=1.3.1 in /root/.local/share/virtualenvs/app-4PlAip0Q/lib/python3.8/site-packages (from umap-learn->bertopic) (1.5.2)\r\n",
      "Requirement already satisfied: numba!=0.47,>=0.46 in /root/.local/share/virtualenvs/app-4PlAip0Q/lib/python3.8/site-packages (from umap-learn->bertopic) (0.51.2)\r\n",
      "Requirement already satisfied: nltk in /root/.local/share/virtualenvs/app-4PlAip0Q/lib/python3.8/site-packages (from sentence-transformers->bertopic) (3.5)\r\n",
      "Requirement already satisfied: transformers<3.4.0,>=3.1.0 in /root/.local/share/virtualenvs/app-4PlAip0Q/lib/python3.8/site-packages (from sentence-transformers->bertopic) (3.3.1)\r\n",
      "Requirement already satisfied: threadpoolctl>=2.0.0 in /root/.local/share/virtualenvs/app-4PlAip0Q/lib/python3.8/site-packages (from scikit-learn->bertopic) (2.1.0)\r\n",
      "Requirement already satisfied: future in /root/.local/share/virtualenvs/app-4PlAip0Q/lib/python3.8/site-packages (from torch->bertopic) (0.18.2)\r\n",
      "Requirement already satisfied: pytz>=2017.2 in /root/.local/share/virtualenvs/app-4PlAip0Q/lib/python3.8/site-packages (from pandas->bertopic) (2020.1)\r\n",
      "Requirement already satisfied: python-dateutil>=2.7.3 in /root/.local/share/virtualenvs/app-4PlAip0Q/lib/python3.8/site-packages (from pandas->bertopic) (2.8.1)\r\n",
      "Requirement already satisfied: cython>=0.27 in /root/.local/share/virtualenvs/app-4PlAip0Q/lib/python3.8/site-packages (from hdbscan->bertopic) (0.29.21)\r\n",
      "Requirement already satisfied: six in /root/.local/share/virtualenvs/app-4PlAip0Q/lib/python3.8/site-packages (from hdbscan->bertopic) (1.15.0)\r\n",
      "Requirement already satisfied: llvmlite<0.35,>=0.34.0.dev0 in /root/.local/share/virtualenvs/app-4PlAip0Q/lib/python3.8/site-packages (from numba!=0.47,>=0.46->umap-learn->bertopic) (0.34.0)\r\n",
      "Requirement already satisfied: setuptools in /root/.local/share/virtualenvs/app-4PlAip0Q/lib/python3.8/site-packages (from numba!=0.47,>=0.46->umap-learn->bertopic) (50.3.0)\r\n",
      "Requirement already satisfied: click in /root/.local/share/virtualenvs/app-4PlAip0Q/lib/python3.8/site-packages (from nltk->sentence-transformers->bertopic) (7.1.2)\r\n",
      "Requirement already satisfied: regex in /root/.local/share/virtualenvs/app-4PlAip0Q/lib/python3.8/site-packages (from nltk->sentence-transformers->bertopic) (2020.9.27)\r\n",
      "Requirement already satisfied: sentencepiece!=0.1.92 in /root/.local/share/virtualenvs/app-4PlAip0Q/lib/python3.8/site-packages (from transformers<3.4.0,>=3.1.0->sentence-transformers->bertopic) (0.1.91)\r\n",
      "Requirement already satisfied: requests in /root/.local/share/virtualenvs/app-4PlAip0Q/lib/python3.8/site-packages (from transformers<3.4.0,>=3.1.0->sentence-transformers->bertopic) (2.24.0)\r\n",
      "Requirement already satisfied: packaging in /root/.local/share/virtualenvs/app-4PlAip0Q/lib/python3.8/site-packages (from transformers<3.4.0,>=3.1.0->sentence-transformers->bertopic) (20.4)\r\n",
      "Requirement already satisfied: filelock in /root/.local/share/virtualenvs/app-4PlAip0Q/lib/python3.8/site-packages (from transformers<3.4.0,>=3.1.0->sentence-transformers->bertopic) (3.0.12)\r\n",
      "Requirement already satisfied: sacremoses in /root/.local/share/virtualenvs/app-4PlAip0Q/lib/python3.8/site-packages (from transformers<3.4.0,>=3.1.0->sentence-transformers->bertopic) (0.0.43)\r\n",
      "Requirement already satisfied: tokenizers==0.8.1.rc2 in /root/.local/share/virtualenvs/app-4PlAip0Q/lib/python3.8/site-packages (from transformers<3.4.0,>=3.1.0->sentence-transformers->bertopic) (0.8.1rc2)\r\n",
      "Requirement already satisfied: certifi>=2017.4.17 in /root/.local/share/virtualenvs/app-4PlAip0Q/lib/python3.8/site-packages (from requests->transformers<3.4.0,>=3.1.0->sentence-transformers->bertopic) (2020.6.20)\r\n",
      "Requirement already satisfied: idna<3,>=2.5 in /root/.local/share/virtualenvs/app-4PlAip0Q/lib/python3.8/site-packages (from requests->transformers<3.4.0,>=3.1.0->sentence-transformers->bertopic) (2.10)\r\n",
      "Requirement already satisfied: urllib3!=1.25.0,!=1.25.1,<1.26,>=1.21.1 in /root/.local/share/virtualenvs/app-4PlAip0Q/lib/python3.8/site-packages (from requests->transformers<3.4.0,>=3.1.0->sentence-transformers->bertopic) (1.25.10)\r\n",
      "Requirement already satisfied: chardet<4,>=3.0.2 in /root/.local/share/virtualenvs/app-4PlAip0Q/lib/python3.8/site-packages (from requests->transformers<3.4.0,>=3.1.0->sentence-transformers->bertopic) (3.0.4)\r\n",
      "Requirement already satisfied: pyparsing>=2.0.2 in /root/.local/share/virtualenvs/app-4PlAip0Q/lib/python3.8/site-packages (from packaging->transformers<3.4.0,>=3.1.0->sentence-transformers->bertopic) (2.4.7)\r\n",
      "Collecting vncorenlp\r\n",
      "  Downloading vncorenlp-1.0.3.tar.gz (2.6 MB)\r\n",
      "\u001B[K     |████████████████████████████████| 2.6 MB 10.2 MB/s eta 0:00:01\r\n",
      "\u001B[?25hRequirement already satisfied: requests in /root/.local/share/virtualenvs/app-4PlAip0Q/lib/python3.8/site-packages (from vncorenlp) (2.24.0)\r\n",
      "Requirement already satisfied: chardet<4,>=3.0.2 in /root/.local/share/virtualenvs/app-4PlAip0Q/lib/python3.8/site-packages (from requests->vncorenlp) (3.0.4)\r\n",
      "Requirement already satisfied: certifi>=2017.4.17 in /root/.local/share/virtualenvs/app-4PlAip0Q/lib/python3.8/site-packages (from requests->vncorenlp) (2020.6.20)\r\n",
      "Requirement already satisfied: idna<3,>=2.5 in /root/.local/share/virtualenvs/app-4PlAip0Q/lib/python3.8/site-packages (from requests->vncorenlp) (2.10)\r\n",
      "Requirement already satisfied: urllib3!=1.25.0,!=1.25.1,<1.26,>=1.21.1 in /root/.local/share/virtualenvs/app-4PlAip0Q/lib/python3.8/site-packages (from requests->vncorenlp) (1.25.10)\r\n",
      "Building wheels for collected packages: vncorenlp\r\n",
      "  Building wheel for vncorenlp (setup.py) ... \u001B[?25l-\b \b\\\b \b|\b \bdone\r\n",
      "\u001B[?25h  Created wheel for vncorenlp: filename=vncorenlp-1.0.3-py3-none-any.whl size=2645935 sha256=418d59556343c25165fb7e10706ef6db70320321fe4c30304d7f6daeb5b2345a\r\n",
      "  Stored in directory: /root/.cache/pip/wheels/3c/e9/86/706911c12e307aeb9a2702399f0dad38d36f1d6f9dde8af35e\r\n",
      "Successfully built vncorenlp\r\n",
      "Installing collected packages: vncorenlp\r\n",
      "Successfully installed vncorenlp-1.0.3\r\n",
      "--2020-10-09 02:20:32--  https://raw.githubusercontent.com/vncorenlp/VnCoreNLP/master/VnCoreNLP-1.1.1.jar\r\n",
      "Resolving raw.githubusercontent.com (raw.githubusercontent.com)... 151.101.0.133, 151.101.64.133, 151.101.128.133, ...\r\n",
      "Connecting to raw.githubusercontent.com (raw.githubusercontent.com)|151.101.0.133|:443... connected.\r\n",
      "HTTP request sent, awaiting response... 200 OK\r\n",
      "Length: 27412575 (26M) [application/octet-stream]\r\n",
      "Saving to: ‘VnCoreNLP-1.1.1.jar’\r\n",
      "\r\n",
      "VnCoreNLP-1.1.1.jar 100%[===================>]  26.14M  62.9MB/s    in 0.4s    \r\n",
      "\r\n",
      "2020-10-09 02:20:34 (62.9 MB/s) - ‘VnCoreNLP-1.1.1.jar’ saved [27412575/27412575]\r\n",
      "\r\n",
      "--2020-10-09 02:20:35--  https://raw.githubusercontent.com/vncorenlp/VnCoreNLP/master/models/wordsegmenter/vi-vocab\r\n",
      "Resolving raw.githubusercontent.com (raw.githubusercontent.com)... 151.101.0.133, 151.101.64.133, 151.101.128.133, ...\r\n",
      "Connecting to raw.githubusercontent.com (raw.githubusercontent.com)|151.101.0.133|:443... connected.\r\n",
      "HTTP request sent, awaiting response... 200 OK\r\n",
      "Length: 526544 (514K) [application/octet-stream]\r\n",
      "Saving to: ‘vi-vocab’\r\n",
      "\r\n",
      "vi-vocab            100%[===================>] 514.20K  --.-KB/s    in 0.02s   \r\n",
      "\r\n",
      "2020-10-09 02:20:35 (22.5 MB/s) - ‘vi-vocab’ saved [526544/526544]\r\n",
      "\r\n",
      "--2020-10-09 02:20:36--  https://raw.githubusercontent.com/vncorenlp/VnCoreNLP/master/models/wordsegmenter/wordsegmenter.rdr\r\n",
      "Resolving raw.githubusercontent.com (raw.githubusercontent.com)... 151.101.0.133, 151.101.64.133, 151.101.128.133, ...\r\n",
      "Connecting to raw.githubusercontent.com (raw.githubusercontent.com)|151.101.0.133|:443... connected.\r\n",
      "HTTP request sent, awaiting response... 200 OK\r\n",
      "Length: 128508 (125K) [text/plain]\r\n",
      "Saving to: ‘wordsegmenter.rdr’\r\n",
      "\r\n",
      "wordsegmenter.rdr   100%[===================>] 125.50K  --.-KB/s    in 0.02s   \r\n",
      "\r\n",
      "2020-10-09 02:20:36 (7.29 MB/s) - ‘wordsegmenter.rdr’ saved [128508/128508]\r\n",
      "\r\n"
     ]
    }
   ]
  },
  {
   "cell_type": "code",
   "metadata": {
    "id": "ZH_JBVIewra_",
    "outputId": "83c4169b-15b0-4379-e4f5-4d0c680a00b9",
    "colab": {
     "base_uri": "https://localhost:8080/",
     "height": 1000
    }
   },
   "source": [
    "import os       #importing os to set environment variable\n",
    "def install_java():\n",
    "  !apt update\n",
    "  !apt install -y openjdk-11-jre-headless    #install openjdk\n",
    "  os.environ[\"JAVA_HOME\"] = \"/usr/lib/jvm/java-8-openjdk-amd64\"     #set environment variable\n",
    "  !java -version       #check java version\n",
    "install_java()"
   ],
   "execution_count": 2,
   "outputs": [
    {
     "name": "stdout",
     "output_type": "stream",
     "text": [
      "Get:1 http://security.debian.org/debian-security buster/updates InRelease [65.4 kB]\r\n",
      "Get:2 http://deb.debian.org/debian buster InRelease [121 kB]0m\r\n",
      "Get:3 http://deb.debian.org/debian buster-updates InRelease [51.9 kB][0m\u001B[33m\r\n",
      "Get:4 http://security.debian.org/debian-security buster/updates/main amd64 Packages [233 kB]\r\n",
      "Get:5 http://deb.debian.org/debian buster/main amd64 Packages [7906 kB]\r\n",
      "Get:6 http://deb.debian.org/debian buster-updates/main amd64 Packages [7868 B]\r\n",
      "              \r[0m        \u001B[0m\u001B[33m                       \u001B[0m\u001B[33m\u001B[33m\u001B[33mFetched 8387 kB in 1s (5665 kB/s)\r\n",
      "Reading package lists... Done\r\n",
      "Building dependency tree       \r\n",
      "Reading state information... Done\r\n",
      "7 packages can be upgraded. Run 'apt list --upgradable' to see them.\r\n",
      "Reading package lists... Done\r\n",
      "Building dependency tree       \r\n",
      "Reading state information... Done\r\n",
      "The following additional packages will be installed:\r\n",
      "  ca-certificates-java dbus java-common libapparmor1 libasound2\r\n",
      "  libasound2-data libavahi-client3 libavahi-common-data libavahi-common3\r\n",
      "  libcups2 libdbus-1-3 libnspr4 libnss3 libpcsclite1 libxi6 libxtst6\r\n",
      "Suggested packages:\r\n",
      "  default-dbus-session-bus | dbus-session-bus default-jre libasound2-plugins\r\n",
      "  alsa-utils cups-common pcscd libnss-mdns fonts-dejavu-extra\r\n",
      "  fonts-ipafont-gothic fonts-ipafont-mincho fonts-wqy-microhei\r\n",
      "  | fonts-wqy-zenhei fonts-indic\r\n",
      "The following NEW packages will be installed:\r\n",
      "  ca-certificates-java dbus java-common libapparmor1 libasound2\r\n",
      "  libasound2-data libavahi-client3 libavahi-common-data libavahi-common3\r\n",
      "  libcups2 libdbus-1-3 libnspr4 libnss3 libpcsclite1 libxi6 libxtst6\r\n",
      "  openjdk-11-jre-headless\r\n",
      "0 upgraded, 17 newly installed, 0 to remove and 7 not upgraded.\r\n",
      "Need to get 40.4 MB of archives.\r\n",
      "After this operation, 179 MB of additional disk space will be used.\r\n",
      "Get:1 http://deb.debian.org/debian buster/main amd64 libapparmor1 amd64 2.13.2-10 [94.7 kB]\r\n",
      "Get:2 http://deb.debian.org/debian buster/main amd64 libdbus-1-3 amd64 1.12.20-0+deb10u1 [215 kB]\r\n",
      "Get:3 http://deb.debian.org/debian buster/main amd64 dbus amd64 1.12.20-0+deb10u1 [236 kB]\r\n",
      "Get:4 http://deb.debian.org/debian buster/main amd64 java-common all 0.71 [14.4 kB]\r\n",
      "Get:5 http://deb.debian.org/debian buster/main amd64 libavahi-common-data amd64 0.7-4+b1 [122 kB]\r\n",
      "Get:6 http://deb.debian.org/debian buster/main amd64 libavahi-common3 amd64 0.7-4+b1 [54.6 kB]\r\n",
      "Get:7 http://deb.debian.org/debian buster/main amd64 libavahi-client3 amd64 0.7-4+b1 [58.1 kB]\r\n",
      "Get:8 http://deb.debian.org/debian buster/main amd64 libcups2 amd64 2.2.10-6+deb10u3 [324 kB]\r\n",
      "Get:9 http://deb.debian.org/debian buster/main amd64 libnspr4 amd64 2:4.20-1 [112 kB]\r\n",
      "Get:10 http://deb.debian.org/debian buster/main amd64 libnss3 amd64 2:3.42.1-1+deb10u3 [1159 kB]\r\n",
      "Get:11 http://deb.debian.org/debian buster/main amd64 libasound2-data all 1.1.8-1 [59.6 kB]\r\n",
      "Get:12 http://deb.debian.org/debian buster/main amd64 libasound2 amd64 1.1.8-1 [361 kB]\r\n",
      "Get:13 http://deb.debian.org/debian buster/main amd64 libpcsclite1 amd64 1.8.24-1 [58.5 kB]\r\n",
      "Get:14 http://deb.debian.org/debian buster/main amd64 libxi6 amd64 2:1.7.9-1 [82.6 kB]\r\n",
      "Get:15 http://deb.debian.org/debian buster/main amd64 libxtst6 amd64 2:1.2.3-1 [27.8 kB]\r\n",
      "Get:16 http://deb.debian.org/debian buster/main amd64 openjdk-11-jre-headless amd64 11.0.8+10-1~deb10u1 [37.4 MB]\r\n",
      "Get:17 http://deb.debian.org/debian buster/main amd64 ca-certificates-java all 20190405 [15.7 kB]\r\n",
      "Fetched 40.4 MB in 1s (63.1 MB/s)                 \u001B[0m\u001B[33m\r\n",
      "debconf: delaying package configuration, since apt-utils is not installed\r\n",
      "\n",
      "\u001B7\u001B[0;23r\u001B8\u001B[1ASelecting previously unselected package libapparmor1:amd64.\r\n",
      "(Reading database ... 24604 files and directories currently installed.)\r\n",
      "Preparing to unpack .../00-libapparmor1_2.13.2-10_amd64.deb ...\r\n",
      "\u001B7\u001B[24;0f\u001B[42m\u001B[30mProgress: [  0%]\u001B[49m\u001B[39m [..........................................................] \u001B8\u001B7\u001B[24;0f\u001B[42m\u001B[30mProgress: [  1%]\u001B[49m\u001B[39m [..........................................................] \u001B8Unpacking libapparmor1:amd64 (2.13.2-10) ...\r\n",
      "\u001B7\u001B[24;0f\u001B[42m\u001B[30mProgress: [  3%]\u001B[49m\u001B[39m [#.........................................................] \u001B8Selecting previously unselected package libdbus-1-3:amd64.\r\n",
      "Preparing to unpack .../01-libdbus-1-3_1.12.20-0+deb10u1_amd64.deb ...\r\n",
      "\u001B7\u001B[24;0f\u001B[42m\u001B[30mProgress: [  4%]\u001B[49m\u001B[39m [##........................................................] \u001B8Unpacking libdbus-1-3:amd64 (1.12.20-0+deb10u1) ...\r\n",
      "\u001B7\u001B[24;0f\u001B[42m\u001B[30mProgress: [  6%]\u001B[49m\u001B[39m [###.......................................................] \u001B8Selecting previously unselected package dbus.\r\n",
      "Preparing to unpack .../02-dbus_1.12.20-0+deb10u1_amd64.deb ...\r\n",
      "\u001B7\u001B[24;0f\u001B[42m\u001B[30mProgress: [  7%]\u001B[49m\u001B[39m [####......................................................] \u001B8Unpacking dbus (1.12.20-0+deb10u1) ...\r\n",
      "\u001B7\u001B[24;0f\u001B[42m\u001B[30mProgress: [  9%]\u001B[49m\u001B[39m [#####.....................................................] \u001B8Selecting previously unselected package java-common.\r\n",
      "Preparing to unpack .../03-java-common_0.71_all.deb ...\r\n",
      "\u001B7\u001B[24;0f\u001B[42m\u001B[30mProgress: [ 10%]\u001B[49m\u001B[39m [#####.....................................................] \u001B8Unpacking java-common (0.71) ...\r\n",
      "\u001B7\u001B[24;0f\u001B[42m\u001B[30mProgress: [ 12%]\u001B[49m\u001B[39m [######....................................................] \u001B8Selecting previously unselected package libavahi-common-data:amd64.\r\n",
      "Preparing to unpack .../04-libavahi-common-data_0.7-4+b1_amd64.deb ...\r\n",
      "\u001B7\u001B[24;0f\u001B[42m\u001B[30mProgress: [ 13%]\u001B[49m\u001B[39m [#######...................................................] \u001B8Unpacking libavahi-common-data:amd64 (0.7-4+b1) ...\r\n",
      "\u001B7\u001B[24;0f\u001B[42m\u001B[30mProgress: [ 14%]\u001B[49m\u001B[39m [########..................................................] \u001B8Selecting previously unselected package libavahi-common3:amd64.\r\n",
      "Preparing to unpack .../05-libavahi-common3_0.7-4+b1_amd64.deb ...\r\n",
      "\u001B7\u001B[24;0f\u001B[42m\u001B[30mProgress: [ 16%]\u001B[49m\u001B[39m [#########.................................................] \u001B8Unpacking libavahi-common3:amd64 (0.7-4+b1) ...\r\n",
      "\u001B7\u001B[24;0f\u001B[42m\u001B[30mProgress: [ 17%]\u001B[49m\u001B[39m [##########................................................] \u001B8Selecting previously unselected package libavahi-client3:amd64.\r\n",
      "Preparing to unpack .../06-libavahi-client3_0.7-4+b1_amd64.deb ...\r\n",
      "\u001B7\u001B[24;0f\u001B[42m\u001B[30mProgress: [ 19%]\u001B[49m\u001B[39m [##########................................................] \u001B8Unpacking libavahi-client3:amd64 (0.7-4+b1) ...\r\n",
      "\u001B7\u001B[24;0f\u001B[42m\u001B[30mProgress: [ 20%]\u001B[49m\u001B[39m [###########...............................................] \u001B8Selecting previously unselected package libcups2:amd64.\r\n",
      "Preparing to unpack .../07-libcups2_2.2.10-6+deb10u3_amd64.deb ...\r\n",
      "\u001B7\u001B[24;0f\u001B[42m\u001B[30mProgress: [ 22%]\u001B[49m\u001B[39m [############..............................................] \u001B8Unpacking libcups2:amd64 (2.2.10-6+deb10u3) ...\r\n",
      "\u001B7\u001B[24;0f\u001B[42m\u001B[30mProgress: [ 23%]\u001B[49m\u001B[39m [#############.............................................] \u001B8Selecting previously unselected package libnspr4:amd64.\r\n",
      "Preparing to unpack .../08-libnspr4_2%3a4.20-1_amd64.deb ...\r\n",
      "\u001B7\u001B[24;0f\u001B[42m\u001B[30mProgress: [ 25%]\u001B[49m\u001B[39m [##############............................................] \u001B8Unpacking libnspr4:amd64 (2:4.20-1) ...\r\n",
      "\u001B7\u001B[24;0f\u001B[42m\u001B[30mProgress: [ 26%]\u001B[49m\u001B[39m [###############...........................................] \u001B8Selecting previously unselected package libnss3:amd64.\r\n",
      "Preparing to unpack .../09-libnss3_2%3a3.42.1-1+deb10u3_amd64.deb ...\r\n",
      "\u001B7\u001B[24;0f\u001B[42m\u001B[30mProgress: [ 28%]\u001B[49m\u001B[39m [###############...........................................] \u001B8Unpacking libnss3:amd64 (2:3.42.1-1+deb10u3) ...\r\n",
      "\u001B7\u001B[24;0f\u001B[42m\u001B[30mProgress: [ 29%]\u001B[49m\u001B[39m [################..........................................] \u001B8Selecting previously unselected package libasound2-data.\r\n",
      "Preparing to unpack .../10-libasound2-data_1.1.8-1_all.deb ...\r\n",
      "\u001B7\u001B[24;0f\u001B[42m\u001B[30mProgress: [ 30%]\u001B[49m\u001B[39m [#################.........................................] \u001B8Unpacking libasound2-data (1.1.8-1) ...\r\n",
      "\u001B7\u001B[24;0f\u001B[42m\u001B[30mProgress: [ 32%]\u001B[49m\u001B[39m [##################........................................] \u001B8Selecting previously unselected package libasound2:amd64.\r\n",
      "Preparing to unpack .../11-libasound2_1.1.8-1_amd64.deb ...\r\n",
      "\u001B7\u001B[24;0f\u001B[42m\u001B[30mProgress: [ 33%]\u001B[49m\u001B[39m [###################.......................................] \u001B8Unpacking libasound2:amd64 (1.1.8-1) ...\r\n",
      "\u001B7\u001B[24;0f\u001B[42m\u001B[30mProgress: [ 35%]\u001B[49m\u001B[39m [####################......................................] \u001B8Selecting previously unselected package libpcsclite1:amd64.\r\n",
      "Preparing to unpack .../12-libpcsclite1_1.8.24-1_amd64.deb ...\r\n",
      "\u001B7\u001B[24;0f\u001B[42m\u001B[30mProgress: [ 36%]\u001B[49m\u001B[39m [#####################.....................................] \u001B8Unpacking libpcsclite1:amd64 (1.8.24-1) ...\r\n",
      "\u001B7\u001B[24;0f\u001B[42m\u001B[30mProgress: [ 38%]\u001B[49m\u001B[39m [#####################.....................................] \u001B8Selecting previously unselected package libxi6:amd64.\r\n",
      "Preparing to unpack .../13-libxi6_2%3a1.7.9-1_amd64.deb ...\r\n",
      "\u001B7\u001B[24;0f\u001B[42m\u001B[30mProgress: [ 39%]\u001B[49m\u001B[39m [######################....................................] \u001B8Unpacking libxi6:amd64 (2:1.7.9-1) ...\r\n",
      "\u001B7\u001B[24;0f\u001B[42m\u001B[30mProgress: [ 41%]\u001B[49m\u001B[39m [#######################...................................] \u001B8Selecting previously unselected package libxtst6:amd64.\r\n",
      "Preparing to unpack .../14-libxtst6_2%3a1.2.3-1_amd64.deb ...\r\n",
      "\u001B7\u001B[24;0f\u001B[42m\u001B[30mProgress: [ 42%]\u001B[49m\u001B[39m [########################..................................] \u001B8Unpacking libxtst6:amd64 (2:1.2.3-1) ...\r\n",
      "\u001B7\u001B[24;0f\u001B[42m\u001B[30mProgress: [ 43%]\u001B[49m\u001B[39m [#########################.................................] \u001B8Selecting previously unselected package openjdk-11-jre-headless:amd64.\r\n",
      "Preparing to unpack .../15-openjdk-11-jre-headless_11.0.8+10-1~deb10u1_amd64.deb ...\r\n",
      "\u001B7\u001B[24;0f\u001B[42m\u001B[30mProgress: [ 45%]\u001B[49m\u001B[39m [##########################................................] \u001B8Unpacking openjdk-11-jre-headless:amd64 (11.0.8+10-1~deb10u1) ...\r\n",
      "\u001B7\u001B[24;0f\u001B[42m\u001B[30mProgress: [ 46%]\u001B[49m\u001B[39m [##########################................................] \u001B8Selecting previously unselected package ca-certificates-java.\r\n",
      "Preparing to unpack .../16-ca-certificates-java_20190405_all.deb ...\r\n",
      "\u001B7\u001B[24;0f\u001B[42m\u001B[30mProgress: [ 48%]\u001B[49m\u001B[39m [###########################...............................] \u001B8Unpacking ca-certificates-java (20190405) ...\r\n",
      "\u001B7\u001B[24;0f\u001B[42m\u001B[30mProgress: [ 49%]\u001B[49m\u001B[39m [############################..............................] \u001B8Setting up libapparmor1:amd64 (2.13.2-10) ...\r\n",
      "\u001B7\u001B[24;0f\u001B[42m\u001B[30mProgress: [ 51%]\u001B[49m\u001B[39m [#############################.............................] \u001B8\u001B7\u001B[24;0f\u001B[42m\u001B[30mProgress: [ 52%]\u001B[49m\u001B[39m [##############################............................] \u001B8Setting up libxi6:amd64 (2:1.7.9-1) ...\r\n",
      "\u001B7\u001B[24;0f\u001B[42m\u001B[30mProgress: [ 54%]\u001B[49m\u001B[39m [###############################...........................] \u001B8\u001B7\u001B[24;0f\u001B[42m\u001B[30mProgress: [ 55%]\u001B[49m\u001B[39m [###############################...........................] \u001B8Setting up java-common (0.71) ...\r\n",
      "\u001B7\u001B[24;0f\u001B[42m\u001B[30mProgress: [ 57%]\u001B[49m\u001B[39m [################################..........................] \u001B8\u001B7\u001B[24;0f\u001B[42m\u001B[30mProgress: [ 58%]\u001B[49m\u001B[39m [#################################.........................] \u001B8Setting up libxtst6:amd64 (2:1.2.3-1) ...\r\n",
      "\u001B7\u001B[24;0f\u001B[42m\u001B[30mProgress: [ 59%]\u001B[49m\u001B[39m [##################################........................] \u001B8\u001B7\u001B[24;0f\u001B[42m\u001B[30mProgress: [ 61%]\u001B[49m\u001B[39m [###################################.......................] \u001B8Setting up libasound2-data (1.1.8-1) ...\r\n",
      "\u001B7\u001B[24;0f\u001B[42m\u001B[30mProgress: [ 62%]\u001B[49m\u001B[39m [####################################......................] \u001B8\u001B7\u001B[24;0f\u001B[42m\u001B[30mProgress: [ 64%]\u001B[49m\u001B[39m [####################################......................] \u001B8Setting up libnspr4:amd64 (2:4.20-1) ...\r\n",
      "\u001B7\u001B[24;0f\u001B[42m\u001B[30mProgress: [ 65%]\u001B[49m\u001B[39m [#####################################.....................] \u001B8\u001B7\u001B[24;0f\u001B[42m\u001B[30mProgress: [ 67%]\u001B[49m\u001B[39m [######################################....................] \u001B8Setting up libavahi-common-data:amd64 (0.7-4+b1) ...\r\n",
      "\u001B7\u001B[24;0f\u001B[42m\u001B[30mProgress: [ 68%]\u001B[49m\u001B[39m [#######################################...................] \u001B8\u001B7\u001B[24;0f\u001B[42m\u001B[30mProgress: [ 70%]\u001B[49m\u001B[39m [########################################..................] \u001B8Setting up libdbus-1-3:amd64 (1.12.20-0+deb10u1) ...\r\n",
      "\u001B7\u001B[24;0f\u001B[42m\u001B[30mProgress: [ 71%]\u001B[49m\u001B[39m [#########################################.................] \u001B8\u001B7\u001B[24;0f\u001B[42m\u001B[30mProgress: [ 72%]\u001B[49m\u001B[39m [##########################################................] \u001B8Setting up dbus (1.12.20-0+deb10u1) ...\r\n",
      "\u001B7\u001B[24;0f\u001B[42m\u001B[30mProgress: [ 74%]\u001B[49m\u001B[39m [##########################################................] \u001B8invoke-rc.d: could not determine current runlevel\r\n",
      "invoke-rc.d: policy-rc.d denied execution of start.\r\n",
      "\u001B7\u001B[24;0f\u001B[42m\u001B[30mProgress: [ 75%]\u001B[49m\u001B[39m [###########################################...............] \u001B8Setting up libpcsclite1:amd64 (1.8.24-1) ...\r\n",
      "\u001B7\u001B[24;0f\u001B[42m\u001B[30mProgress: [ 77%]\u001B[49m\u001B[39m [############################################..............] \u001B8\u001B7\u001B[24;0f\u001B[42m\u001B[30mProgress: [ 78%]\u001B[49m\u001B[39m [#############################################.............] \u001B8Setting up libasound2:amd64 (1.1.8-1) ...\r\n",
      "\u001B7\u001B[24;0f\u001B[42m\u001B[30mProgress: [ 80%]\u001B[49m\u001B[39m [##############################################............] \u001B8\u001B7\u001B[24;0f\u001B[42m\u001B[30mProgress: [ 81%]\u001B[49m\u001B[39m [###############################################...........] \u001B8Setting up libavahi-common3:amd64 (0.7-4+b1) ...\r\n",
      "\u001B7\u001B[24;0f\u001B[42m\u001B[30mProgress: [ 83%]\u001B[49m\u001B[39m [###############################################...........] \u001B8\u001B7\u001B[24;0f\u001B[42m\u001B[30mProgress: [ 84%]\u001B[49m\u001B[39m [################################################..........] \u001B8Setting up libnss3:amd64 (2:3.42.1-1+deb10u3) ...\r\n",
      "\u001B7\u001B[24;0f\u001B[42m\u001B[30mProgress: [ 86%]\u001B[49m\u001B[39m [#################################################.........] \u001B8\u001B7\u001B[24;0f\u001B[42m\u001B[30mProgress: [ 87%]\u001B[49m\u001B[39m [##################################################........] \u001B8Setting up libavahi-client3:amd64 (0.7-4+b1) ...\r\n",
      "\u001B7\u001B[24;0f\u001B[42m\u001B[30mProgress: [ 88%]\u001B[49m\u001B[39m [###################################################.......] \u001B8\u001B7\u001B[24;0f\u001B[42m\u001B[30mProgress: [ 90%]\u001B[49m\u001B[39m [####################################################......] \u001B8Setting up libcups2:amd64 (2.2.10-6+deb10u3) ...\r\n",
      "\u001B7\u001B[24;0f\u001B[42m\u001B[30mProgress: [ 91%]\u001B[49m\u001B[39m [####################################################......] \u001B8\u001B7\u001B[24;0f\u001B[42m\u001B[30mProgress: [ 93%]\u001B[49m\u001B[39m [#####################################################.....] \u001B8Setting up openjdk-11-jre-headless:amd64 (11.0.8+10-1~deb10u1) ...\r\n",
      "\u001B7\u001B[24;0f\u001B[42m\u001B[30mProgress: [ 94%]\u001B[49m\u001B[39m [######################################################....] \u001B8update-alternatives: using /usr/lib/jvm/java-11-openjdk-amd64/bin/rmid to provide /usr/bin/rmid (rmid) in auto mode\r\n",
      "update-alternatives: using /usr/lib/jvm/java-11-openjdk-amd64/bin/java to provide /usr/bin/java (java) in auto mode\r\n",
      "update-alternatives: using /usr/lib/jvm/java-11-openjdk-amd64/bin/keytool to provide /usr/bin/keytool (keytool) in auto mode\r\n",
      "update-alternatives: using /usr/lib/jvm/java-11-openjdk-amd64/bin/jjs to provide /usr/bin/jjs (jjs) in auto mode\r\n",
      "update-alternatives: using /usr/lib/jvm/java-11-openjdk-amd64/bin/pack200 to provide /usr/bin/pack200 (pack200) in auto mode\r\n",
      "update-alternatives: using /usr/lib/jvm/java-11-openjdk-amd64/bin/rmiregistry to provide /usr/bin/rmiregistry (rmiregistry) in auto mode\r\n",
      "update-alternatives: using /usr/lib/jvm/java-11-openjdk-amd64/bin/unpack200 to provide /usr/bin/unpack200 (unpack200) in auto mode\r\n",
      "update-alternatives: using /usr/lib/jvm/java-11-openjdk-amd64/bin/jfr to provide /usr/bin/jfr (jfr) in auto mode\r\n",
      "update-alternatives: using /usr/lib/jvm/java-11-openjdk-amd64/lib/jexec to provide /usr/bin/jexec (jexec) in auto mode\r\n",
      "\u001B7\u001B[24;0f\u001B[42m\u001B[30mProgress: [ 96%]\u001B[49m\u001B[39m [#######################################################...] \u001B8Setting up ca-certificates-java (20190405) ...\r\n",
      "\u001B7\u001B[24;0f\u001B[42m\u001B[30mProgress: [ 97%]\u001B[49m\u001B[39m [########################################################..] \u001B8head: cannot open '/etc/ssl/certs/java/cacerts' for reading: No such file or directory\r\n",
      "Adding debian:SSL.com_Root_Certification_Authority_RSA.pem\r\n",
      "Adding debian:Starfield_Services_Root_Certificate_Authority_-_G2.pem\r\n",
      "Adding debian:Go_Daddy_Root_Certificate_Authority_-_G2.pem\r\n",
      "Adding debian:Amazon_Root_CA_2.pem\r\n",
      "Adding debian:emSign_Root_CA_-_G1.pem\r\n",
      "Adding debian:TeliaSonera_Root_CA_v1.pem\r\n",
      "Adding debian:OISTE_WISeKey_Global_Root_GA_CA.pem\r\n",
      "Adding debian:Microsec_e-Szigno_Root_CA_2009.pem\r\n",
      "Adding debian:Security_Communication_Root_CA.pem\r\n",
      "Adding debian:USERTrust_RSA_Certification_Authority.pem\r\n",
      "Adding debian:Staat_der_Nederlanden_Root_CA_-_G2.pem\r\n",
      "Adding debian:COMODO_Certification_Authority.pem\r\n",
      "Adding debian:CFCA_EV_ROOT.pem\r\n",
      "Adding debian:SSL.com_EV_Root_Certification_Authority_RSA_R2.pem\r\n",
      "Adding debian:DigiCert_Assured_ID_Root_G3.pem\r\n",
      "Adding debian:SZAFIR_ROOT_CA2.pem\r\n",
      "Adding debian:UCA_Global_G2_Root.pem\r\n",
      "Adding debian:TrustCor_ECA-1.pem\r\n",
      "Adding debian:Hellenic_Academic_and_Research_Institutions_ECC_RootCA_2015.pem\r\n",
      "Adding debian:Entrust_Root_Certification_Authority_-_EC1.pem\r\n",
      "Adding debian:GTS_Root_R4.pem\r\n",
      "Adding debian:LuxTrust_Global_Root_2.pem\r\n",
      "Adding debian:DigiCert_Global_Root_CA.pem\r\n",
      "Adding debian:DigiCert_High_Assurance_EV_Root_CA.pem\r\n",
      "Adding debian:Entrust_Root_Certification_Authority_-_G2.pem\r\n",
      "Adding debian:QuoVadis_Root_CA_3.pem\r\n",
      "Adding debian:Entrust_Root_Certification_Authority_-_G4.pem\r\n",
      "Adding debian:GTS_Root_R3.pem\r\n",
      "Adding debian:Comodo_AAA_Services_root.pem\r\n",
      "Adding debian:Staat_der_Nederlanden_Root_CA_-_G3.pem\r\n",
      "Adding debian:Hongkong_Post_Root_CA_1.pem\r\n",
      "Adding debian:GlobalSign_Root_CA_-_R2.pem\r\n",
      "Adding debian:SSL.com_Root_Certification_Authority_ECC.pem\r\n",
      "Adding debian:D-TRUST_Root_Class_3_CA_2_EV_2009.pem\r\n",
      "Adding debian:NetLock_Arany_=Class_Gold=_Főtanúsítvány.pem\r\n",
      "Adding debian:DST_Root_CA_X3.pem\r\n",
      "Adding debian:GTS_Root_R2.pem\r\n",
      "Adding debian:TUBITAK_Kamu_SM_SSL_Kok_Sertifikasi_-_Surum_1.pem\r\n",
      "Adding debian:GeoTrust_Universal_CA_2.pem\r\n",
      "Adding debian:GDCA_TrustAUTH_R5_ROOT.pem\r\n",
      "Adding debian:Buypass_Class_2_Root_CA.pem\r\n",
      "Adding debian:Amazon_Root_CA_4.pem\r\n",
      "Adding debian:IdenTrust_Commercial_Root_CA_1.pem\r\n",
      "Adding debian:Network_Solutions_Certificate_Authority.pem\r\n",
      "Adding debian:GlobalSign_Root_CA_-_R3.pem\r\n",
      "Adding debian:COMODO_RSA_Certification_Authority.pem\r\n",
      "Adding debian:UCA_Extended_Validation_Root.pem\r\n",
      "Adding debian:Hellenic_Academic_and_Research_Institutions_RootCA_2011.pem\r\n",
      "Adding debian:Staat_der_Nederlanden_EV_Root_CA.pem\r\n",
      "Adding debian:TWCA_Global_Root_CA.pem\r\n",
      "Adding debian:Certigna_Root_CA.pem\r\n",
      "Adding debian:Buypass_Class_3_Root_CA.pem\r\n",
      "Adding debian:DigiCert_Global_Root_G3.pem\r\n",
      "Adding debian:emSign_ECC_Root_CA_-_C3.pem\r\n",
      "Adding debian:AC_RAIZ_FNMT-RCM.pem\r\n",
      "Adding debian:GlobalSign_ECC_Root_CA_-_R4.pem\r\n",
      "Adding debian:COMODO_ECC_Certification_Authority.pem\r\n",
      "Adding debian:EC-ACC.pem\r\n",
      "Adding debian:QuoVadis_Root_CA_2.pem\r\n",
      "Adding debian:DigiCert_Trusted_Root_G4.pem\r\n",
      "Adding debian:Verisign_Class_3_Public_Primary_Certification_Authority_-_G3.pem\r\n",
      "Adding debian:TWCA_Root_Certification_Authority.pem\r\n",
      "Adding debian:SecureSign_RootCA11.pem\r\n",
      "Adding debian:DigiCert_Assured_ID_Root_G2.pem\r\n",
      "Adding debian:SwissSign_Silver_CA_-_G2.pem\r\n",
      "Adding debian:emSign_Root_CA_-_C1.pem\r\n",
      "Adding debian:QuoVadis_Root_CA_3_G3.pem\r\n",
      "Adding debian:certSIGN_ROOT_CA.pem\r\n",
      "Adding debian:Actalis_Authentication_Root_CA.pem\r\n",
      "Adding debian:Izenpe.com.pem\r\n",
      "Adding debian:XRamp_Global_CA_Root.pem\r\n",
      "Adding debian:OISTE_WISeKey_Global_Root_GC_CA.pem\r\n",
      "Adding debian:SecureTrust_CA.pem\r\n",
      "Adding debian:Chambers_of_Commerce_Root_-_2008.pem\r\n",
      "Adding debian:USERTrust_ECC_Certification_Authority.pem\r\n",
      "Adding debian:Cybertrust_Global_Root.pem\r\n",
      "Adding debian:Global_Chambersign_Root_-_2008.pem\r\n",
      "Adding debian:DigiCert_Assured_ID_Root_CA.pem\r\n",
      "Adding debian:AffirmTrust_Premium_ECC.pem\r\n",
      "Adding debian:T-TeleSec_GlobalRoot_Class_2.pem\r\n",
      "Adding debian:E-Tugra_Certification_Authority.pem\r\n",
      "Adding debian:T-TeleSec_GlobalRoot_Class_3.pem\r\n",
      "Adding debian:Secure_Global_CA.pem\r\n",
      "Adding debian:ePKI_Root_Certification_Authority.pem\r\n",
      "Adding debian:Taiwan_GRCA.pem\r\n",
      "Adding debian:GlobalSign_Root_CA.pem\r\n",
      "Adding debian:Amazon_Root_CA_3.pem\r\n",
      "Adding debian:QuoVadis_Root_CA_2_G3.pem\r\n",
      "Adding debian:Certum_Trusted_Network_CA.pem\r\n",
      "Adding debian:SSL.com_EV_Root_Certification_Authority_ECC.pem\r\n",
      "Adding debian:GlobalSign_Root_CA_-_R6.pem\r\n",
      "Adding debian:DigiCert_Global_Root_G2.pem\r\n",
      "Adding debian:Go_Daddy_Class_2_CA.pem\r\n",
      "Adding debian:Hellenic_Academic_and_Research_Institutions_RootCA_2015.pem\r\n",
      "Adding debian:ISRG_Root_X1.pem\r\n",
      "Adding debian:Entrust.net_Premium_2048_Secure_Server_CA.pem\r\n",
      "Adding debian:Autoridad_de_Certificacion_Firmaprofesional_CIF_A62634068.pem\r\n",
      "Adding debian:emSign_ECC_Root_CA_-_G3.pem\r\n",
      "Adding debian:Hongkong_Post_Root_CA_3.pem\r\n",
      "Adding debian:Entrust_Root_Certification_Authority.pem\r\n",
      "Adding debian:AffirmTrust_Commercial.pem\r\n",
      "Adding debian:Sonera_Class_2_Root_CA.pem\r\n",
      "Adding debian:Security_Communication_RootCA2.pem\r\n",
      "Adding debian:EE_Certification_Centre_Root_CA.pem\r\n",
      "Adding debian:Starfield_Root_Certificate_Authority_-_G2.pem\r\n",
      "Adding debian:AffirmTrust_Premium.pem\r\n",
      "Adding debian:Certum_Trusted_Network_CA_2.pem\r\n",
      "Adding debian:Certigna.pem\r\n",
      "Adding debian:Atos_TrustedRoot_2011.pem\r\n",
      "Adding debian:QuoVadis_Root_CA_1_G3.pem\r\n",
      "Adding debian:SwissSign_Gold_CA_-_G2.pem\r\n",
      "Adding debian:D-TRUST_Root_Class_3_CA_2_2009.pem\r\n",
      "Adding debian:Starfield_Class_2_CA.pem\r\n",
      "Adding debian:OISTE_WISeKey_Global_Root_GB_CA.pem\r\n",
      "Adding debian:Amazon_Root_CA_1.pem\r\n",
      "Adding debian:IdenTrust_Public_Sector_Root_CA_1.pem\r\n",
      "Adding debian:QuoVadis_Root_CA.pem\r\n",
      "Adding debian:GlobalSign_ECC_Root_CA_-_R5.pem\r\n",
      "Adding debian:TrustCor_RootCert_CA-2.pem\r\n",
      "Adding debian:GTS_Root_R1.pem\r\n",
      "Adding debian:Trustis_FPS_Root_CA.pem\r\n",
      "Adding debian:CA_Disig_Root_R2.pem\r\n",
      "Adding debian:ACCVRAIZ1.pem\r\n",
      "Adding debian:AffirmTrust_Networking.pem\r\n",
      "Adding debian:Baltimore_CyberTrust_Root.pem\r\n",
      "Adding debian:TrustCor_RootCert_CA-1.pem\r\n",
      "done.\r\n",
      "Processing triggers for libc-bin (2.28-10) ...\r\n",
      "Processing triggers for ca-certificates (20200601~deb10u1) ...\r\n",
      "\u001B7\u001B[24;0f\u001B[42m\u001B[30mProgress: [ 99%]\u001B[49m\u001B[39m [#########################################################.] \u001B8Updating certificates in /etc/ssl/certs...\r\n",
      "0 added, 0 removed; done.\r\n",
      "Running hooks in /etc/ca-certificates/update.d...\r\n",
      "\r\n",
      "done.\r\n",
      "done.\r\n",
      "\r\n",
      "\u001B7\u001B[0;24r\u001B8\u001B[1A\u001B[Jopenjdk version \"11.0.8\" 2020-07-14\r\n",
      "OpenJDK Runtime Environment (build 11.0.8+10-post-Debian-1deb10u1)\r\n",
      "OpenJDK 64-Bit Server VM (build 11.0.8+10-post-Debian-1deb10u1, mixed mode, sharing)\r\n"
     ]
    }
   ]
  },
  {
   "cell_type": "markdown",
   "metadata": {
    "id": "Y3VGFZ1USMTu"
   },
   "source": [
    "# Prepare data\n",
    "For this example, we use the famous 20 Newsgroups dataset which contains roughly 18000 newsgroups posts on 20 topics."
   ]
  },
  {
   "cell_type": "code",
   "execution_count": 82,
   "outputs": [
    {
     "name": "stderr",
     "output_type": "stream",
     "text": [
      "2332325it [00:08, 264650.12it/s]\n"
     ]
    },
    {
     "name": "stdout",
     "output_type": "stream",
     "text": [
      "2332325\n"
     ]
    }
   ],
   "source": [
    "from tqdm import tqdm\n",
    "import urllib.request\n",
    "url = \"http://de3.qmanga.com/posts.txt\"\n",
    "file = urllib.request.urlopen(url)\n",
    "docs = []\n",
    "for line in tqdm(file):\n",
    "    decoded_line = line.decode(\"utf-8\")\n",
    "    docs.append(decoded_line)\n",
    "print(len(docs))"
   ],
   "metadata": {
    "collapsed": false,
    "pycharm": {
     "name": "#%%\n"
    }
   }
  },
  {
   "cell_type": "code",
   "execution_count": 21,
   "outputs": [
    {
     "name": "stdout",
     "output_type": "stream",
     "text": [
      "READY\n"
     ]
    }
   ],
   "source": [
    "from bertopic import BERTopic\n",
    "from vncorenlp import VnCoreNLP\n",
    "import re\n",
    "from underthesea import word_tokenize, sent_tokenize\n",
    "\n",
    "rdrsegmenter = VnCoreNLP(\"./VnCoreNLP-1.1.1.jar\", annotators=\"wseg\", max_heap_size='-Xmx500m')\n",
    "print(\"READY\")"
   ],
   "metadata": {
    "collapsed": false,
    "pycharm": {
     "name": "#%%\n"
    }
   }
  },
  {
   "cell_type": "code",
   "metadata": {
    "id": "JJij3WP6SEQD",
    "outputId": "34233782-f991-4971-8839-1d06392b543b",
    "colab": {
     "base_uri": "https://localhost:8080/",
     "height": 232
    }
   },
   "source": [
    "import concurrent.futures\n",
    "from tqdm import tqdm\n",
    "\n",
    "def process_doc(doc):\n",
    "    # print(doc)\n",
    "    # vncore = (\"\\n\".join(map(lambda sentence: \" \".join(sentence), rdrsegmenter.tokenize(doc))))\n",
    "    under = (\"\\n\".join([word_tokenize(sen, format=\"text\") for sen in sent_tokenize(doc)]))\n",
    "    # print(vncore)\n",
    "    # print(under)\n",
    "    return under\n",
    "tokenized_docs = []\n",
    "with concurrent.futures.ProcessPoolExecutor(max_workers=5) as executor:\n",
    "    i =0\n",
    "    future_to_url = []\n",
    "    for doc in tqdm(docs):\n",
    "        i+=1\n",
    "        future_to_url.append(executor.submit(process_doc, (re.sub('[^\\w\\s.,!;\\n]+','',doc.replace(\"\\\\n\",\"\\n\"), re.UNICODE))))\n",
    "        if i % 100 == 0:\n",
    "            # print(i)\n",
    "            for future in concurrent.futures.as_completed(future_to_url):\n",
    "                try:\n",
    "                    tokenized_docs.append(future.result())\n",
    "                    # print(len(tokenized_docs))\n",
    "                except Exception as exc:\n",
    "                    print('%r generated an exception: %s' % (url, exc))\n",
    "            future_to_url = []"
   ],
   "execution_count": 84,
   "outputs": [
    {
     "name": "stderr",
     "output_type": "stream",
     "text": [
      "100%|██████████| 2332325/2332325 [1:47:30<00:00, 361.55it/s]  \n"
     ]
    }
   ]
  },
  {
   "cell_type": "markdown",
   "metadata": {
    "id": "SBcNmZJzSTY8"
   },
   "source": [
    "# Create Topics\n",
    "We use the **distilbert-base-nli-mean-tokens** model as it is the recommended model for creating sentence embeddings according to the authors of the [sentence-embeddings](https://www.sbert.net/docs/pretrained_models.html) package. However, you can use whatever embeddings is currently pre-trained in the package."
   ]
  },
  {
   "cell_type": "code",
   "metadata": {
    "id": "TfhfzqkoSJ1I",
    "outputId": "4fb285ce-932a-4b23-acca-61ee83509579",
    "colab": {
     "base_uri": "https://localhost:8080/",
     "height": 170
    },
    "pycharm": {
     "is_executing": true
    }
   },
   "source": [
    "# print(tokenized_docs[10:20])\n",
    "model = BERTopic(\"xlm-r-100langs-bert-base-nli-stsb-mean-tokens\", verbose=True)\n",
    "topics = model.fit_transform(docs)"
   ],
   "execution_count": null,
   "outputs": [
    {
     "name": "stderr",
     "output_type": "stream",
     "text": [
      "100%|██████████| 1.01G/1.01G [00:17<00:00, 57.4MB/s]\n",
      "2020-10-09 06:22:22,867 - BERTopic - Loaded BERT model\n",
      "INFO:BERTopic:Loaded BERT model\n"
     ]
    }
   ]
  },
  {
   "cell_type": "code",
   "metadata": {
    "id": "nNptKBzHSbyS",
    "outputId": "70878efd-c320-46aa-8388-4b0c8b674103",
    "colab": {
     "base_uri": "https://localhost:8080/",
     "height": 204
    }
   },
   "source": [
    "# Get most frequent topics\n",
    "model.get_topics_freq()[:5]"
   ],
   "execution_count": 4,
   "outputs": [
    {
     "output_type": "execute_result",
     "data": {
      "text/plain": [
       "   Topic  Count\n",
       "0     -1   3815\n",
       "1     36   2322\n",
       "2     10    731\n",
       "3     17    484\n",
       "4     32    457"
      ],
      "text/html": [
       "<div>\n",
       "<style scoped>\n",
       "    .dataframe tbody tr th:only-of-type {\n",
       "        vertical-align: middle;\n",
       "    }\n",
       "\n",
       "    .dataframe tbody tr th {\n",
       "        vertical-align: top;\n",
       "    }\n",
       "\n",
       "    .dataframe thead th {\n",
       "        text-align: right;\n",
       "    }\n",
       "</style>\n",
       "<table border=\"1\" class=\"dataframe\">\n",
       "  <thead>\n",
       "    <tr style=\"text-align: right;\">\n",
       "      <th></th>\n",
       "      <th>Topic</th>\n",
       "      <th>Count</th>\n",
       "    </tr>\n",
       "  </thead>\n",
       "  <tbody>\n",
       "    <tr>\n",
       "      <th>0</th>\n",
       "      <td>-1</td>\n",
       "      <td>3815</td>\n",
       "    </tr>\n",
       "    <tr>\n",
       "      <th>1</th>\n",
       "      <td>36</td>\n",
       "      <td>2322</td>\n",
       "    </tr>\n",
       "    <tr>\n",
       "      <th>2</th>\n",
       "      <td>10</td>\n",
       "      <td>731</td>\n",
       "    </tr>\n",
       "    <tr>\n",
       "      <th>3</th>\n",
       "      <td>17</td>\n",
       "      <td>484</td>\n",
       "    </tr>\n",
       "    <tr>\n",
       "      <th>4</th>\n",
       "      <td>32</td>\n",
       "      <td>457</td>\n",
       "    </tr>\n",
       "  </tbody>\n",
       "</table>\n",
       "</div>"
      ]
     },
     "metadata": {
      "tags": []
     },
     "execution_count": 4
    }
   ]
  },
  {
   "cell_type": "code",
   "metadata": {
    "id": "UCw_q8I7Sb03",
    "outputId": "3293167d-214d-4fb5-cfe7-64e2c4cd3896",
    "colab": {
     "base_uri": "https://localhost:8080/",
     "height": 187
    }
   },
   "source": [
    "# Get a topic \n",
    "model.get_topic(8)[:10]"
   ],
   "execution_count": 14,
   "outputs": [
    {
     "output_type": "execute_result",
     "data": {
      "text/plain": [
       "[('gay', 0.0378408054504732),\n",
       " ('cramer', 0.035105007037722194),\n",
       " ('optilink', 0.029938059903937837),\n",
       " ('homosexual', 0.028372928346573543),\n",
       " ('men', 0.027332436712704754),\n",
       " ('sexual', 0.024208844760479513),\n",
       " ('clayton', 0.020979311369394887),\n",
       " ('homosexuals', 0.01782175249550026),\n",
       " ('male', 0.016996039406207666),\n",
       " ('promiscuous', 0.01671068613901953)]"
      ]
     },
     "metadata": {
      "tags": []
     },
     "execution_count": 14
    }
   ]
  },
  {
   "cell_type": "markdown",
   "metadata": {
    "id": "wekNoQNuUVoU"
   },
   "source": [
    "## Model serialization\n",
    "The model and its internal settings can easily be saved. Note that the documents and embeddings will not be saved. However, UMAP and HDBSCAN will be saved. "
   ]
  },
  {
   "cell_type": "code",
   "metadata": {
    "id": "nWUF1uxiSb_a"
   },
   "source": [
    "# Save model\n",
    "model.save(\"my_model\")\t"
   ],
   "execution_count": null,
   "outputs": []
  },
  {
   "cell_type": "code",
   "metadata": {
    "id": "y_eHBI1jSb6i"
   },
   "source": [
    "# Load model\n",
    "my_model = BERTopic.load(\"my_model\")\t"
   ],
   "execution_count": null,
   "outputs": []
  },
  {
   "cell_type": "code",
   "metadata": {
    "id": "c9p-bE-MW_Bp",
    "outputId": "d03141a3-e285-4c99-85c9-ad4c8d0fbe1a",
    "colab": {
     "base_uri": "https://localhost:8080/",
     "height": 185
    }
   },
   "source": [
    "my_model.get_topic(4)[:10]"
   ],
   "execution_count": null,
   "outputs": [
    {
     "output_type": "execute_result",
     "data": {
      "text/plain": [
       "[('baseball', 0.01534818753609341),\n",
       " ('players', 0.01113384693242755),\n",
       " ('cubs', 0.010651317673247482),\n",
       " ('game', 0.01064425481072388),\n",
       " ('braves', 0.010439585241772109),\n",
       " ('pitching', 0.009477156669897367),\n",
       " ('games', 0.009166144809830891),\n",
       " ('runs', 0.009154570979537589),\n",
       " ('year', 0.008982491530594413),\n",
       " ('team', 0.00894693731063402)]"
      ]
     },
     "metadata": {
      "tags": []
     },
     "execution_count": 35
    }
   ]
  }
 ]
}